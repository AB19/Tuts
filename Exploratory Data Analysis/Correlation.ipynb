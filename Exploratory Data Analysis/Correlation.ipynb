{
 "cells": [
  {
   "cell_type": "markdown",
   "metadata": {},
   "source": [
    "# Exploratory Data Analysis - Correlation (& Covariance)\n",
    "\n",
    "Before we look into what correlation is, one important concept we need to understand is covariance. In this tutorial we will look at variance, covariance, correlation and how to use these statistical metrics in data analysis."
   ]
  },
  {
   "cell_type": "markdown",
   "metadata": {},
   "source": [
    "We can describe/ summarize data using\n",
    "\n",
    "1. Measures of central tendency (mean, median & mode)\n",
    "2. Measures of spread (range, variance, standard deviation)\n",
    "\n",
    "In this tutorial I will not go through what mean, median and mode are. If you think you need a quick recap, this webpage is a good read https://statistics.laerd.com/statistical-guides/measures-central-tendency-mean-mode-median.php"
   ]
  },
  {
   "cell_type": "markdown",
   "metadata": {},
   "source": [
    "#### Variance"
   ]
  },
  {
   "cell_type": "markdown",
   "metadata": {},
   "source": [
    "Variance is one of the measures of spread/ dispersion. It can be defined as the average of squared differences of the data points from mean."
   ]
  },
  {
   "cell_type": "markdown",
   "metadata": {},
   "source": [
    "<img src = \"Capture.PNG\">"
   ]
  },
  {
   "cell_type": "markdown",
   "metadata": {},
   "source": [
    "Standard deviation is the root of variance. A point to note from the above formulae is that for sample we divide by 'n-1' (number of data points minus 1) while for population we divide by 'N' (Number of data points). This is known as bassel's correction. A sample is not an accurate representation of the population. Each sample comes with a sample error. Bassel's correction is used correct this sample error. \n",
    "\n",
    "Let's see how we can calculate variance using numpy in python."
   ]
  },
  {
   "cell_type": "code",
   "execution_count": 1,
   "metadata": {},
   "outputs": [],
   "source": [
    "import numpy as np\n",
    "data = np.array ([100, -34, 78, 90, 10, -11, 23, -145, 10, 20])"
   ]
  },
  {
   "cell_type": "raw",
   "metadata": {},
   "source": [
    "data is an array of 10 elements. Steps we need to follow to calculate variance\n",
    "\n",
    "a) Compute the mean of data\n",
    "b) Create a difference array that holds the differences between elements and mean\n",
    "c) Compute squares of each element and sum the array\n",
    "d) Divide the value by n-1 (=9)"
   ]
  },
  {
   "cell_type": "code",
   "execution_count": 2,
   "metadata": {},
   "outputs": [
    {
     "name": "stdout",
     "output_type": "stream",
     "text": [
      "14.1\n",
      "14.1\n"
     ]
    }
   ],
   "source": [
    "mean = np.mean (data)\n",
    "print (mean)\n",
    "\n",
    "# if you do not want to use the inbuilt mean method you can loop across each element, compute the sum and then divide by\n",
    "# number of elements\n",
    "# Code:\n",
    "suM = 0\n",
    "for value in data:\n",
    "    suM += value\n",
    "print (suM/ len (data))"
   ]
  },
  {
   "cell_type": "code",
   "execution_count": 3,
   "metadata": {},
   "outputs": [
    {
     "name": "stdout",
     "output_type": "stream",
     "text": [
      "[  85.9  -48.1   63.9   75.9   -4.1  -25.1    8.9 -159.1   -4.1    5.9]\n"
     ]
    }
   ],
   "source": [
    "difference = data - mean\n",
    "print (difference)\n",
    "\n",
    "# numpy has the ability to broadcast a variable. When you subtract a value from an array/ matrix, the value gets subtracted from\n",
    "# every element in the array/ matrix"
   ]
  },
  {
   "cell_type": "code",
   "execution_count": 4,
   "metadata": {},
   "outputs": [
    {
     "name": "stdout",
     "output_type": "stream",
     "text": [
      "[7.378810e+03 2.313610e+03 4.083210e+03 5.760810e+03 1.681000e+01\n",
      " 6.300100e+02 7.921000e+01 2.531281e+04 1.681000e+01 3.481000e+01]\n",
      "[7.378810e+03 2.313610e+03 4.083210e+03 5.760810e+03 1.681000e+01\n",
      " 6.300100e+02 7.921000e+01 2.531281e+04 1.681000e+01 3.481000e+01]\n"
     ]
    }
   ],
   "source": [
    "squared = np.square (difference)\n",
    "print (squared)\n",
    "\n",
    "# the below operation will also give the squared values\n",
    "print (difference ** 2)"
   ]
  },
  {
   "cell_type": "code",
   "execution_count": 5,
   "metadata": {},
   "outputs": [
    {
     "name": "stdout",
     "output_type": "stream",
     "text": [
      "45626.899999999994\n"
     ]
    }
   ],
   "source": [
    "sumOfSquaredDifferences = np.sum (squared)\n",
    "print (sumOfSquaredDifferences)"
   ]
  },
  {
   "cell_type": "code",
   "execution_count": 6,
   "metadata": {},
   "outputs": [
    {
     "name": "stdout",
     "output_type": "stream",
     "text": [
      "5069.655555555555\n"
     ]
    }
   ],
   "source": [
    "variance = sumOfSquaredDifferences/ (len (data) - 1)\n",
    "print (variance)"
   ]
  },
  {
   "cell_type": "markdown",
   "metadata": {},
   "source": [
    "Too much code! To those who feel so, numpy has an inbuilt method to calculate variance of a given array. Along with the data, it takes in ddof (delta degrees of freedom) as one of its arguments. \n",
    "\n",
    "ddof can be given as the number of elements in the array subtracted by the degrees of freedom. This webpage is a good read on the what degrees of freedom is http://www.statisticshowto.com/degrees-of-freedom/"
   ]
  },
  {
   "cell_type": "raw",
   "metadata": {},
   "source": [
    "For data analyis all you need to remember is\n",
    "a) ddof = 0, if you have population data (almost never!)\n",
    "b) dd0f = 1, if you have sample data"
   ]
  },
  {
   "cell_type": "code",
   "execution_count": 7,
   "metadata": {},
   "outputs": [
    {
     "name": "stdout",
     "output_type": "stream",
     "text": [
      "5069.655555555555\n"
     ]
    }
   ],
   "source": [
    "print (np.var (data, ddof = 1))"
   ]
  },
  {
   "cell_type": "markdown",
   "metadata": {},
   "source": [
    "Now, we know what variance is and how to compute variance on given data. Lets now look at covariance!"
   ]
  },
  {
   "cell_type": "markdown",
   "metadata": {},
   "source": [
    "#### Covariance\n",
    "\n",
    "Lets divide the term into two, Co and Variance. We know that variance refers to the average of squared differences of the data points from mean. Co literally translates to joint/ mutual. So, when we speak about covraiance we are trying to look at how multiple data sets (or variables) vary with respect to each other. Using covariance we try to establish a relationship between these variables.\n",
    "\n",
    "Before proceeding any further, one point to always keep in mind is that covariance can only establish linear relationships. There is very high chance that the variables are non-linearly related but covraiance is zero (or near zero). So, before calculating covariance we need to plot the variables. \n",
    "\n",
    "Lets look at a sample problem. We try to study the relationship between number of hours a student a studied and their test scores."
   ]
  },
  {
   "cell_type": "code",
   "execution_count": 8,
   "metadata": {},
   "outputs": [],
   "source": [
    "# We have only 10 students in the class\n",
    "studyHours = np.array ([23.5, 10, 0.5, 16, 40, 12.5, 20, 28.5, 31, 26])\n",
    "testScores = np.array ([78, 64, 20, 66, 98, 64, 73, 87, 91, 82])"
   ]
  },
  {
   "cell_type": "code",
   "execution_count": 9,
   "metadata": {},
   "outputs": [
    {
     "data": {
      "text/plain": [
       "Text(0,0.5,'Test Scores')"
      ]
     },
     "execution_count": 9,
     "metadata": {},
     "output_type": "execute_result"
    },
    {
     "data": {
      "image/png": "[encoded data removed]",
      "text/plain": [
       "<Figure size 432x288 with 1 Axes>"
      ]
     },
     "metadata": {},
     "output_type": "display_data"
    }
   ],
   "source": [
    "# lets the plot the data using seaborn\n",
    "import seaborn as sns\n",
    "import matplotlib.pyplot as plt\n",
    "%matplotlib inline\n",
    "plot = sns.regplot (x = studyHours, y = testScores)\n",
    "plot.set_xlabel ('Study Hours')\n",
    "plot.set_ylabel ('Test Scores')"
   ]
  },
  {
   "cell_type": "markdown",
   "metadata": {},
   "source": [
    "We can infer from the graph that the variables are linearly related and hence covariance can be applied here. Below is the formula to calculate covariance for two variables X and Y with n data points each\n",
    "<img src = 'covariance.png'>"
   ]
  },
  {
   "cell_type": "markdown",
   "metadata": {},
   "source": [
    "-> What can we infer from the result?\n",
    "\n",
    "1. Direction of the relationship. \n",
    "\n",
    "        1.1. If the value is positive, there exists a positive linear relationship. \n",
    "             -> If the value of X increases, Y increases\n",
    "             -> If X decreases, Y decreases\n",
    "        1.2. If the values is negative, there is a negative linear relationship. \n",
    "             -> If X increases, Y decreases\n",
    "             -> If X decreases, Y increases\n",
    "        1.3. If the value is zero, the variables are not dependent. \n",
    "             -> If X increases, Y - 'I donno where to go bro!'\n",
    "             -> If X decreases, Y - '@.@'"
   ]
  },
  {
   "cell_type": "code",
   "execution_count": 10,
   "metadata": {},
   "outputs": [
    {
     "data": {
      "text/plain": [
       "Text(0.5,1,'Negative Linear Relationship')"
      ]
     },
     "execution_count": 10,
     "metadata": {},
     "output_type": "execute_result"
    },
    {
     "data": {
      "image/png": "[encoded data removed]",
      "text/plain": [
       "<Figure size 576x576 with 2 Axes>"
      ]
     },
     "metadata": {},
     "output_type": "display_data"
    }
   ],
   "source": [
    "fig = plt.figure (figsize = (8, 8))\n",
    "plt.subplot (3, 1, 1)\n",
    "plot = sns.regplot (x = studyHours, y = testScores)\n",
    "plot.set_title (\"Positive Linear Relationship\")\n",
    "plt.subplot (3, 1, 2)\n",
    "plot = sns.regplot (x = studyHours, y = testScores [:: -1])\n",
    "plot.set_title (\"Negative Linear Relationship\")"
   ]
  },
  {
   "cell_type": "markdown",
   "metadata": {},
   "source": [
    "2. Strength of the relationship. A large value could mean a stronger relationship. \n",
    "\n",
    "-> What can we not infer from the result?\n",
    "\n",
    "1. Comparision of strengths. Suppose we have three variables X, Y1, Y2 with n values each and all of them on 'different scales'. We calculate the covariance of (X, Y1) to be + 29.98 and covariance of (X, Y2) to be + 69.93. We 'cannot' infer that (X, Y2) have a stronger relationship than (X, Y1) or vice-versa.\n",
    "\n",
    "2. You can compare the strengths if Y1 and Y2 are on the same scale.\n",
    "\n",
    "-> Lets calculate covariance between the study hours and test scores. Steps we need to follow to calculate covariance\n",
    "\n",
    "1. Compute means of the variables\n",
    "2. Subtract means from their respective data points\n",
    "3. Multiply the corresponding data points\n",
    "4. Add the values from the multiplied array\n",
    "5. Divide by n - 1 (=9)"
   ]
  },
  {
   "cell_type": "code",
   "execution_count": 11,
   "metadata": {},
   "outputs": [
    {
     "name": "stdout",
     "output_type": "stream",
     "text": [
      "20.8\n",
      "72.3\n"
     ]
    }
   ],
   "source": [
    "meanStudyHours = np.mean (studyHours)\n",
    "meanTestScores = np.mean (testScores)\n",
    "print (meanStudyHours)\n",
    "print (meanTestScores)"
   ]
  },
  {
   "cell_type": "code",
   "execution_count": 12,
   "metadata": {},
   "outputs": [
    {
     "name": "stdout",
     "output_type": "stream",
     "text": [
      "[  2.7 -10.8 -20.3  -4.8  19.2  -8.3  -0.8   7.7  10.2   5.2]\n",
      "[  5.7  -8.3 -52.3  -6.3  25.7  -8.3   0.7  14.7  18.7   9.7]\n"
     ]
    }
   ],
   "source": [
    "differenceStudyHours = studyHours - meanStudyHours\n",
    "differenceTestScores = testScores - meanTestScores\n",
    "print (differenceStudyHours)\n",
    "print (differenceTestScores)"
   ]
  },
  {
   "cell_type": "code",
   "execution_count": 13,
   "metadata": {},
   "outputs": [
    {
     "name": "stdout",
     "output_type": "stream",
     "text": [
      "[ 1.53900e+01  8.96400e+01  1.06169e+03  3.02400e+01  4.93440e+02\n",
      "  6.88900e+01 -5.60000e-01  1.13190e+02  1.90740e+02  5.04400e+01]\n"
     ]
    }
   ],
   "source": [
    "products = np.multiply (differenceStudyHours, differenceTestScores)\n",
    "print (products)"
   ]
  },
  {
   "cell_type": "code",
   "execution_count": 14,
   "metadata": {},
   "outputs": [
    {
     "name": "stdout",
     "output_type": "stream",
     "text": [
      "2113.1\n"
     ]
    }
   ],
   "source": [
    "suM = np.sum (products)\n",
    "print (suM)"
   ]
  },
  {
   "cell_type": "code",
   "execution_count": 15,
   "metadata": {},
   "outputs": [
    {
     "name": "stdout",
     "output_type": "stream",
     "text": [
      "234.7888888888889\n"
     ]
    }
   ],
   "source": [
    "covariance = suM/ (len (products) - 1)\n",
    "print (covariance)"
   ]
  },
  {
   "cell_type": "markdown",
   "metadata": {},
   "source": [
    "Too much code again! To those who feel so, numpy has an inbuilt method to calculate covariance of given arrays/ matrices."
   ]
  },
  {
   "cell_type": "code",
   "execution_count": 16,
   "metadata": {},
   "outputs": [
    {
     "name": "stdout",
     "output_type": "stream",
     "text": [
      "[[131.95555556 234.78888889]\n",
      " [234.78888889 474.01111111]]\n"
     ]
    }
   ],
   "source": [
    "print (np.cov (studyHours, testScores))"
   ]
  },
  {
   "cell_type": "markdown",
   "metadata": {},
   "source": [
    "LOL! a matrix? numpy knows nothing!? Nah, the values that numpy returned are:\n",
    "\n",
    "1. First Row + First Column / array [0][0] = covariance (studyHours, studyHours)\n",
    "2. First Row + Second COlumn / array [0][1] = covariance (studyHours, testScores)\n",
    "3. Second Row + First Column / array [1][0] = covariance (testScores, studyHours)\n",
    "4. Second Row + Second COlumn / array [1][1] = covariance (testScores, testScores)\n",
    "\n",
    "numpy knows."
   ]
  },
  {
   "cell_type": "code",
   "execution_count": 17,
   "metadata": {},
   "outputs": [
    {
     "name": "stdout",
     "output_type": "stream",
     "text": [
      "234.78888888888892\n",
      "234.78888888888892\n"
     ]
    }
   ],
   "source": [
    "# this is what we want\n",
    "print (np.cov (studyHours, testScores) [0, 1])\n",
    "\n",
    "# or\n",
    "print (np.cov (studyHours, testScores) [1, 0])"
   ]
  },
  {
   "cell_type": "markdown",
   "metadata": {},
   "source": [
    "Note: Numpy calculates the covariance under the assumption that the data points provided are just samples. If you have the population data, use \n",
    "\n",
    "                    np.cov (studyHours, testScores, ddof = 0) [0, 1] "
   ]
  },
  {
   "cell_type": "markdown",
   "metadata": {},
   "source": [
    "#### Correlation\n",
    "\n",
    "While looking at covariance, we came across the fact that covariance can describe strength of the relationship (higher the covariance value greater the strength). Seems too abstract ! What do you mean by higher, is it +100 or -1000? Do we have a number? Nah, covariance doesnt care bruh!\n",
    "\n",
    "Enter Correlation!\n",
    "\n",
    "Correlation can be used to measure the strength of the relationship. These values range from -1 to 1 with either extremes showing strong relationship and 0 showing no relationship.\n",
    "\n",
    "1. +1 -> Strong positive relationship\n",
    "2. -1 -> Strong negative relationship\n",
    "3.  0 -> No relationship\n",
    "\n",
    "One of the most common correlation methods used is the Pearson's Correlation Coeffient. Lets look at the formula for computing Pearson's Correlation Coefficient\n",
    "<img src = 'correlation.png'>"
   ]
  },
  {
   "cell_type": "markdown",
   "metadata": {},
   "source": [
    "We have samples (not population). So, we need to compute the sample standard deviation of studyHours and testScores. In the 'variance' section we learned to calculate variance of given array of data. If we square root the value, we get the standard deviation. I will use the inbuilt standard deviation function of numpy"
   ]
  },
  {
   "cell_type": "code",
   "execution_count": 18,
   "metadata": {},
   "outputs": [
    {
     "name": "stdout",
     "output_type": "stream",
     "text": [
      "11.48719093406023\n",
      "21.771796230699735\n"
     ]
    }
   ],
   "source": [
    "studyHoursStdDev = np.std (studyHours, ddof = 1)\n",
    "testScoresStdDev = np.std (testScores, ddof = 1)\n",
    "print (studyHoursStdDev)\n",
    "print (testScoresStdDev)"
   ]
  },
  {
   "cell_type": "code",
   "execution_count": 19,
   "metadata": {},
   "outputs": [
    {
     "name": "stdout",
     "output_type": "stream",
     "text": [
      "0.93879212929689\n"
     ]
    }
   ],
   "source": [
    "pearsonCoefficient = covariance / (studyHoursStdDev * testScoresStdDev)\n",
    "print (pearsonCoefficient)"
   ]
  },
  {
   "cell_type": "markdown",
   "metadata": {},
   "source": [
    "+0.93 indicates a strong positive linear relationship between the variables. We can say that higher the number of study hours, higher the test score and lower the number of study hours, lower the test score. We can compute the same using the inbuilt numpy function corrcoef."
   ]
  },
  {
   "cell_type": "code",
   "execution_count": 20,
   "metadata": {},
   "outputs": [
    {
     "name": "stdout",
     "output_type": "stream",
     "text": [
      "[[1.         0.93879213]\n",
      " [0.93879213 1.        ]]\n"
     ]
    }
   ],
   "source": [
    "print (np.corrcoef (studyHours, testScores))"
   ]
  },
  {
   "cell_type": "markdown",
   "metadata": {},
   "source": [
    "Again,\n",
    "\n",
    "1. First Row + First Column / array [0][0] = correlation coefficient (studyHours, studyHours)\n",
    "2. First Row + Second COlumn / array [0][1] = correlation coefficient (studyHours, testScores)\n",
    "3. Second Row + First Column / array [1][0] = correlation coefficient (testScores, studyHours)\n",
    "4. Second Row + Second COlumn / array [1][1] = correlation coefficient (testScores, testScores)\n",
    "\n",
    "Below is what we need!"
   ]
  },
  {
   "cell_type": "code",
   "execution_count": 21,
   "metadata": {},
   "outputs": [
    {
     "name": "stdout",
     "output_type": "stream",
     "text": [
      "0.9387921292968902\n"
     ]
    }
   ],
   "source": [
    "print (np.corrcoef (studyHours, testScores) [0, 1])"
   ]
  },
  {
   "cell_type": "markdown",
   "metadata": {},
   "source": [
    "Now, let us assume the testScores we observed have actually been reversed. Lets get the correct coefficient!"
   ]
  },
  {
   "cell_type": "code",
   "execution_count": 22,
   "metadata": {},
   "outputs": [
    {
     "name": "stdout",
     "output_type": "stream",
     "text": [
      "-0.5788425844782158\n"
     ]
    }
   ],
   "source": [
    "print (np.corrcoef (studyHours, testScores [::-1]) [0, 1])"
   ]
  },
  {
   "cell_type": "markdown",
   "metadata": {},
   "source": [
    "Shows a negative linear relationship. The lesser you study, greater your test scores. How you wish !"
   ]
  },
  {
   "cell_type": "markdown",
   "metadata": {},
   "source": [
    "Limitations of Pearson's coefficient:\n",
    "\n",
    "1. Only applicable to linear data\n",
    "2. Can only be applied on continuous data\n",
    "3. Data needs to be normally distributed\n",
    "4. No difference when the arrays the interchanged. It will give the same value if studyHours and testScores are interchanged. This could make you jump to incorrect conclusions like higher test scores are the reason for higher study scores !@?! We need to be careful when dealing with such data."
   ]
  },
  {
   "cell_type": "markdown",
   "metadata": {},
   "source": [
    "#### Feature analysis for building models\n",
    "\n",
    "I got the data from https://archive.ics.uci.edu/ml/machine-learning-databases/autos/imports-85.data. I will not describe the data here. I will just show how to calculate the correlation coefficient using pandas"
   ]
  },
  {
   "cell_type": "code",
   "execution_count": 23,
   "metadata": {},
   "outputs": [],
   "source": [
    "import pandas as pd\n",
    "data = pd.read_csv (\"https://archive.ics.uci.edu/ml/machine-learning-databases/autos/imports-85.data\", header = None)"
   ]
  },
  {
   "cell_type": "code",
   "execution_count": 27,
   "metadata": {},
   "outputs": [
    {
     "name": "stdout",
     "output_type": "stream",
     "text": [
      "          0         9         10        11        12        13        16  \\\n",
      "0   1.000000 -0.531954 -0.357612 -0.232919 -0.541038 -0.227691 -0.105790   \n",
      "9  -0.531954  1.000000  0.874587  0.795144  0.589435  0.776386  0.569329   \n",
      "10 -0.357612  0.874587  1.000000  0.841118  0.491029  0.877728  0.683360   \n",
      "11 -0.232919  0.795144  0.841118  1.000000  0.279210  0.867032  0.735433   \n",
      "12 -0.541038  0.589435  0.491029  0.279210  1.000000  0.295572  0.067149   \n",
      "13 -0.227691  0.776386  0.877728  0.867032  0.295572  1.000000  0.850594   \n",
      "16 -0.105790  0.569329  0.683360  0.735433  0.067149  0.850594  1.000000   \n",
      "20 -0.178515  0.249786  0.158414  0.181129  0.261214  0.151362  0.028971   \n",
      "23 -0.035823 -0.470414 -0.670909 -0.642704 -0.048640 -0.757414 -0.653658   \n",
      "24  0.034606 -0.544082 -0.704662 -0.677218 -0.107358 -0.797465 -0.677470   \n",
      "\n",
      "          20        23        24  \n",
      "0  -0.178515 -0.035823  0.034606  \n",
      "9   0.249786 -0.470414 -0.544082  \n",
      "10  0.158414 -0.670909 -0.704662  \n",
      "11  0.181129 -0.642704 -0.677218  \n",
      "12  0.261214 -0.048640 -0.107358  \n",
      "13  0.151362 -0.757414 -0.797465  \n",
      "16  0.028971 -0.653658 -0.677470  \n",
      "20  1.000000  0.324701  0.265201  \n",
      "23  0.324701  1.000000  0.971337  \n",
      "24  0.265201  0.971337  1.000000  \n"
     ]
    }
   ],
   "source": [
    "print (data.corr (method = 'pearson'))"
   ]
  },
  {
   "cell_type": "markdown",
   "metadata": {},
   "source": [
    "Not all the columns are eligible for correlation analysis, but as I said I just wanted to show you how it could be done in python. Pandas has calculated the correlation between all the columns that it considers to be numerical in nature. If you want to get the correlation between two columns you do the following \n",
    "                        \n",
    "                        data ['Column A'].corr (data ['Column B'])\n",
    "                        \n",
    "If you observe carefully, the diagonal is always filled with 1.00. "
   ]
  },
  {
   "cell_type": "markdown",
   "metadata": {},
   "source": [
    "We can visualize the correlation values using a heatmap. The scale to the right of the map indicates the strength of relationship between variables."
   ]
  },
  {
   "cell_type": "code",
   "execution_count": 30,
   "metadata": {},
   "outputs": [
    {
     "data": {
      "text/plain": [
       "<matplotlib.axes._subplots.AxesSubplot at 0x1fff73224a8>"
      ]
     },
     "execution_count": 30,
     "metadata": {},
     "output_type": "execute_result"
    },
    {
     "data": {
      "image/png": "[encoded data removed]",
      "text/plain": [
       "<Figure size 432x288 with 2 Axes>"
      ]
     },
     "metadata": {},
     "output_type": "display_data"
    }
   ],
   "source": [
    "sns.heatmap (data.corr (method = 'pearson'))"
   ]
  },
  {
   "cell_type": "code",
   "execution_count": null,
   "metadata": {},
   "outputs": [],
   "source": []
  }
 ],
 "metadata": {
  "kernelspec": {
   "display_name": "Python 3",
   "language": "python",
   "name": "python3"
  },
  "language_info": {
   "codemirror_mode": {
    "name": "ipython",
    "version": 3
   },
   "file_extension": ".py",
   "mimetype": "text/x-python",
   "name": "python",
   "nbconvert_exporter": "python",
   "pygments_lexer": "ipython3",
   "version": "3.6.5"
  }
 },
 "nbformat": 4,
 "nbformat_minor": 2
}
